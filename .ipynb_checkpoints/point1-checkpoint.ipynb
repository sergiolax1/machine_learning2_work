{
 "cells": [
  {
   "cell_type": "code",
   "execution_count": 3,
   "metadata": {},
   "outputs": [],
   "source": [
    "import numpy as np\n",
    "from matrix import Matrix, calculate_rank,calculate_pseudo_determinant,calculate_inverse,\n",
    "from typing import Optional\n"
   ]
  },
  {
   "cell_type": "markdown",
   "metadata": {},
   "source": [
    "### Simulate any random rectangular matrix A.\n",
    "- What is the rank and trace of A?\n",
    "- What is the determinant of A?\n",
    "- Can you invert A? How?\n",
    "- How are eigenvalues and eigenvectors of A’A and AA’ related? What interesting differences can"
   ]
  },
  {
   "cell_type": "markdown",
   "metadata": {},
   "source": [
    "for this excersice used the matrix library , it´s a own library"
   ]
  },
  {
   "cell_type": "code",
   "execution_count": 4,
   "metadata": {},
   "outputs": [],
   "source": [
    "def excersise_1(rows: Optional[int] = 3, cols: Optional[int] = 4, min_val: int = 2, max_val: int = 10):\n",
    "    if rows is None or cols is None:\n",
    "        while True:\n",
    "            rows = np.random.randint(2, 6)\n",
    "            cols = np.random.randint(2, 6)\n",
    "            if rows != cols:\n",
    "                break\n",
    "    matrix_obj = Matrix(rows, cols, min_val, max_val)\n",
    "    matrix = matrix_obj.get_matrix()\n",
    "    rank = calculate_rank(np.array(matrix))\n",
    "    trace = matrix_obj.calculate_trace()\n",
    "    pseudo_determinant = calculate_pseudo_determinant(np.array(matrix))\n",
    "    determinat_diferent_zero = pseudo_determinant != 0\n",
    "    inverse= calculate_inverse(np.array(matrix))\n",
    "    return {\"matrix_A\" : f\"matrix_A have {rows} columns and {cols}\", \"matrix_A\" : matrix ,\"rank and trace\" : f\"his rank = {rank} and trace ={trace}\"\n",
    "            , \"determinat_A\" : f\"the determinat of rectangular matrix  is known as pseudoterminant. His value is {pseudo_determinant}\" ,\n",
    "             \"Can you invert A\" : f\"id pseudo-determinat is diferent zero {determinat_diferent_zero},so matrix A is invertible , and the inverse of moore-penrose is calculated \", \n",
    "              \"matrix_inverse_A\": f\"A-1= (A(tresnpuesta)*A)-1*A(transpuesta)  if A belongs R(n*m) with rank(A) = m , A-1 ={inverse}\",\n",
    "              \"the last question\" : \"AA´ represent the covariance matrix of the training set of the faces.AA´ represent the covariance matrix of the training set of faces. are orthogonal and have the same eigenvalues and eigenvectors\"\n",
    "              }"
   ]
  },
  {
   "cell_type": "markdown",
   "metadata": {},
   "source": [
    "The function allows you to change the parameters, with which it creates a rectangular matrix and answers the questions in the exercise. por defect the parameter are: \n",
    "rows = 3\n",
    "cols =4\n",
    "min_val=2\n",
    "max_val=10"
   ]
  },
  {
   "cell_type": "code",
   "execution_count": 5,
   "metadata": {},
   "outputs": [
    {
     "data": {
      "text/plain": [
       "{'matrix_A': [[2, 9, 2, 9], [5, 4, 2, 2], [6, 5, 8, 8]],\n",
       " 'rank and trace': 'his rank = 3 and trace =14',\n",
       " 'determinat_A': 'the determinat of rectangular matrix  is known as pseudoterminant. His value is 379.6959309763538',\n",
       " 'Can you invert A': 'id pseudo-determinat is diferent zero True,so matrix A is invertible , and the inverse of moore-penrose is calculated ',\n",
       " 'matrix_inverse_A': 'A-1= (A(tresnpuesta)*A)-1*A(transpuesta)  if A belongs R(n*m) with rank(A) = m , A-1 =[[-0.06180247  0.20199211 -0.00847616]\\n [ 0.07865769  0.1065555  -0.08012125]\\n [-0.06299551 -0.0856911   0.12783608]\\n [ 0.06018631 -0.13240017  0.05359682]]',\n",
       " 'the last question': 'AA´ represent the covariance matrix of the training set of the faces.AA´ represent the covariance matrix of the training set of faces. are orthogonal and have the same eigenvalues and eigenvectors'}"
      ]
     },
     "execution_count": 5,
     "metadata": {},
     "output_type": "execute_result"
    }
   ],
   "source": [
    "excersise_1()"
   ]
  },
  {
   "cell_type": "code",
   "execution_count": null,
   "metadata": {},
   "outputs": [],
   "source": []
  }
 ],
 "metadata": {
  "kernelspec": {
   "display_name": "Python 3 (ipykernel)",
   "language": "python",
   "name": "python3"
  },
  "language_info": {
   "codemirror_mode": {
    "name": "ipython",
    "version": 3
   },
   "file_extension": ".py",
   "mimetype": "text/x-python",
   "name": "python",
   "nbconvert_exporter": "python",
   "pygments_lexer": "ipython3",
   "version": "3.9.16"
  }
 },
 "nbformat": 4,
 "nbformat_minor": 2
}
